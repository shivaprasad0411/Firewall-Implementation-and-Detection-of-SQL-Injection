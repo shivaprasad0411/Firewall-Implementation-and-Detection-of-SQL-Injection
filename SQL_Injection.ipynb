{
  "metadata": {
    "kernelspec": {
      "language": "python",
      "display_name": "Python 3",
      "name": "python3"
    },
    "language_info": {
      "name": "python",
      "version": "3.7.10",
      "mimetype": "text/x-python",
      "codemirror_mode": {
        "name": "ipython",
        "version": 3
      },
      "pygments_lexer": "ipython3",
      "nbconvert_exporter": "python",
      "file_extension": ".py"
    },
    "colab": {
      "name": "SQL_Injection.ipynb",
      "provenance": [],
      "collapsed_sections": [
        "v0eT6Qk8SOwI",
        "A_bpSl1Yj7K7",
        "BvLJ7PxMqDGE"
      ]
    }
  },
  "nbformat_minor": 0,
  "nbformat": 4,
  "cells": [
    {
      "cell_type": "markdown",
      "source": [
        "**IMPORTS**"
      ],
      "metadata": {
        "_uuid": "8f2839f25d086af736a60e9eeb907d3b93b6e0e5",
        "_cell_guid": "b1076dfc-b9ad-4769-8c92-a6c4dae69d19",
        "execution": {
          "iopub.status.busy": "2021-11-22T13:14:38.96648Z",
          "iopub.execute_input": "2021-11-22T13:14:38.967409Z",
          "iopub.status.idle": "2021-11-22T13:14:38.994955Z",
          "shell.execute_reply.started": "2021-11-22T13:14:38.967308Z",
          "shell.execute_reply": "2021-11-22T13:14:38.993808Z"
        },
        "id": "OjHeUzG6SOwE"
      }
    },
    {
      "cell_type": "code",
      "source": [
        "from google.colab import drive\n",
        "drive.mount('/content/drive')"
      ],
      "metadata": {
        "colab": {
          "base_uri": "https://localhost:8080/"
        },
        "id": "2_sDQAw9TAle",
        "outputId": "afc80009-2f03-430a-8be0-75ecd0b43809"
      },
      "execution_count": null,
      "outputs": [
        {
          "output_type": "stream",
          "name": "stdout",
          "text": [
            "Mounted at /content/drive\n"
          ]
        }
      ]
    },
    {
      "cell_type": "code",
      "source": [
        "import pandas as pd\n",
        "from sklearn.feature_extraction.text import CountVectorizer\n",
        "from sklearn.model_selection import train_test_split\n",
        "from nltk.corpus import stopwords\n",
        "from sklearn.metrics import accuracy_score, f1_score, recall_score\n",
        "from sklearn.linear_model import LogisticRegression\n",
        "from sklearn.ensemble import RandomForestClassifier\n",
        "from sklearn.svm import SVC\n",
        "from sklearn.naive_bayes import GaussianNB\n",
        "import tensorflow as tf\n",
        "import numpy as np\n",
        "from tensorflow.keras import models, layers\n",
        "import warnings\n",
        "\n",
        "warnings.filterwarnings('ignore')"
      ],
      "metadata": {
        "_uuid": "8f2839f25d086af736a60e9eeb907d3b93b6e0e5",
        "_cell_guid": "b1076dfc-b9ad-4769-8c92-a6c4dae69d19",
        "execution": {
          "iopub.status.busy": "2021-11-26T08:43:08.563526Z",
          "iopub.execute_input": "2021-11-26T08:43:08.564550Z",
          "iopub.status.idle": "2021-11-26T08:43:08.573210Z",
          "shell.execute_reply.started": "2021-11-26T08:43:08.564497Z",
          "shell.execute_reply": "2021-11-26T08:43:08.572559Z"
        },
        "trusted": true,
        "id": "tCaJwVUGSOwG"
      },
      "execution_count": null,
      "outputs": []
    },
    {
      "cell_type": "markdown",
      "source": [
        "## LOADING AND PREPROCESSING DATASET\n",
        "\n",
        "\n"
      ],
      "metadata": {
        "id": "v0eT6Qk8SOwI"
      }
    },
    {
      "cell_type": "code",
      "source": [
        "import nltk\n",
        "nltk.download('stopwords')"
      ],
      "metadata": {
        "colab": {
          "base_uri": "https://localhost:8080/"
        },
        "id": "GmBuH0foTR2H",
        "outputId": "9639547f-b481-4df4-b474-4da6e7c2e1c9"
      },
      "execution_count": null,
      "outputs": [
        {
          "output_type": "stream",
          "name": "stdout",
          "text": [
            "[nltk_data] Downloading package stopwords to /root/nltk_data...\n",
            "[nltk_data]   Unzipping corpora/stopwords.zip.\n"
          ]
        },
        {
          "output_type": "execute_result",
          "data": {
            "text/plain": [
              "True"
            ]
          },
          "metadata": {},
          "execution_count": 3
        }
      ]
    },
    {
      "cell_type": "code",
      "source": [
        "df1 = pd.read_csv(\"/content/drive/MyDrive/Dataset/sqli.csv\",encoding='utf-16')\n",
        "df1.head()"
      ],
      "metadata": {
        "execution": {
          "iopub.status.busy": "2021-11-26T08:43:08.574731Z",
          "iopub.execute_input": "2021-11-26T08:43:08.575102Z",
          "iopub.status.idle": "2021-11-26T08:43:09.183663Z",
          "shell.execute_reply.started": "2021-11-26T08:43:08.575070Z",
          "shell.execute_reply": "2021-11-26T08:43:09.182545Z"
        },
        "trusted": true,
        "id": "-MU0ZEPdSOwI",
        "colab": {
          "base_uri": "https://localhost:8080/",
          "height": 206
        },
        "outputId": "aa5ae17d-6df1-4551-f70e-21f066741188"
      },
      "execution_count": null,
      "outputs": [
        {
          "output_type": "execute_result",
          "data": {
            "text/plain": [
              "          Sentence  Label\n",
              "0                a      1\n",
              "1              a'       1\n",
              "2            a' --      1\n",
              "3  a' or 1 = 1; --      1\n",
              "4                @      1"
            ],
            "text/html": [
              "\n",
              "  <div id=\"df-81416295-4558-4e42-b7b5-8eb1a1e123b5\">\n",
              "    <div class=\"colab-df-container\">\n",
              "      <div>\n",
              "<style scoped>\n",
              "    .dataframe tbody tr th:only-of-type {\n",
              "        vertical-align: middle;\n",
              "    }\n",
              "\n",
              "    .dataframe tbody tr th {\n",
              "        vertical-align: top;\n",
              "    }\n",
              "\n",
              "    .dataframe thead th {\n",
              "        text-align: right;\n",
              "    }\n",
              "</style>\n",
              "<table border=\"1\" class=\"dataframe\">\n",
              "  <thead>\n",
              "    <tr style=\"text-align: right;\">\n",
              "      <th></th>\n",
              "      <th>Sentence</th>\n",
              "      <th>Label</th>\n",
              "    </tr>\n",
              "  </thead>\n",
              "  <tbody>\n",
              "    <tr>\n",
              "      <th>0</th>\n",
              "      <td>a</td>\n",
              "      <td>1</td>\n",
              "    </tr>\n",
              "    <tr>\n",
              "      <th>1</th>\n",
              "      <td>a'</td>\n",
              "      <td>1</td>\n",
              "    </tr>\n",
              "    <tr>\n",
              "      <th>2</th>\n",
              "      <td>a' --</td>\n",
              "      <td>1</td>\n",
              "    </tr>\n",
              "    <tr>\n",
              "      <th>3</th>\n",
              "      <td>a' or 1 = 1; --</td>\n",
              "      <td>1</td>\n",
              "    </tr>\n",
              "    <tr>\n",
              "      <th>4</th>\n",
              "      <td>@</td>\n",
              "      <td>1</td>\n",
              "    </tr>\n",
              "  </tbody>\n",
              "</table>\n",
              "</div>\n",
              "      <button class=\"colab-df-convert\" onclick=\"convertToInteractive('df-81416295-4558-4e42-b7b5-8eb1a1e123b5')\"\n",
              "              title=\"Convert this dataframe to an interactive table.\"\n",
              "              style=\"display:none;\">\n",
              "        \n",
              "  <svg xmlns=\"http://www.w3.org/2000/svg\" height=\"24px\"viewBox=\"0 0 24 24\"\n",
              "       width=\"24px\">\n",
              "    <path d=\"M0 0h24v24H0V0z\" fill=\"none\"/>\n",
              "    <path d=\"M18.56 5.44l.94 2.06.94-2.06 2.06-.94-2.06-.94-.94-2.06-.94 2.06-2.06.94zm-11 1L8.5 8.5l.94-2.06 2.06-.94-2.06-.94L8.5 2.5l-.94 2.06-2.06.94zm10 10l.94 2.06.94-2.06 2.06-.94-2.06-.94-.94-2.06-.94 2.06-2.06.94z\"/><path d=\"M17.41 7.96l-1.37-1.37c-.4-.4-.92-.59-1.43-.59-.52 0-1.04.2-1.43.59L10.3 9.45l-7.72 7.72c-.78.78-.78 2.05 0 2.83L4 21.41c.39.39.9.59 1.41.59.51 0 1.02-.2 1.41-.59l7.78-7.78 2.81-2.81c.8-.78.8-2.07 0-2.86zM5.41 20L4 18.59l7.72-7.72 1.47 1.35L5.41 20z\"/>\n",
              "  </svg>\n",
              "      </button>\n",
              "      \n",
              "  <style>\n",
              "    .colab-df-container {\n",
              "      display:flex;\n",
              "      flex-wrap:wrap;\n",
              "      gap: 12px;\n",
              "    }\n",
              "\n",
              "    .colab-df-convert {\n",
              "      background-color: #E8F0FE;\n",
              "      border: none;\n",
              "      border-radius: 50%;\n",
              "      cursor: pointer;\n",
              "      display: none;\n",
              "      fill: #1967D2;\n",
              "      height: 32px;\n",
              "      padding: 0 0 0 0;\n",
              "      width: 32px;\n",
              "    }\n",
              "\n",
              "    .colab-df-convert:hover {\n",
              "      background-color: #E2EBFA;\n",
              "      box-shadow: 0px 1px 2px rgba(60, 64, 67, 0.3), 0px 1px 3px 1px rgba(60, 64, 67, 0.15);\n",
              "      fill: #174EA6;\n",
              "    }\n",
              "\n",
              "    [theme=dark] .colab-df-convert {\n",
              "      background-color: #3B4455;\n",
              "      fill: #D2E3FC;\n",
              "    }\n",
              "\n",
              "    [theme=dark] .colab-df-convert:hover {\n",
              "      background-color: #434B5C;\n",
              "      box-shadow: 0px 1px 3px 1px rgba(0, 0, 0, 0.15);\n",
              "      filter: drop-shadow(0px 1px 2px rgba(0, 0, 0, 0.3));\n",
              "      fill: #FFFFFF;\n",
              "    }\n",
              "  </style>\n",
              "\n",
              "      <script>\n",
              "        const buttonEl =\n",
              "          document.querySelector('#df-81416295-4558-4e42-b7b5-8eb1a1e123b5 button.colab-df-convert');\n",
              "        buttonEl.style.display =\n",
              "          google.colab.kernel.accessAllowed ? 'block' : 'none';\n",
              "\n",
              "        async function convertToInteractive(key) {\n",
              "          const element = document.querySelector('#df-81416295-4558-4e42-b7b5-8eb1a1e123b5');\n",
              "          const dataTable =\n",
              "            await google.colab.kernel.invokeFunction('convertToInteractive',\n",
              "                                                     [key], {});\n",
              "          if (!dataTable) return;\n",
              "\n",
              "          const docLinkHtml = 'Like what you see? Visit the ' +\n",
              "            '<a target=\"_blank\" href=https://colab.research.google.com/notebooks/data_table.ipynb>data table notebook</a>'\n",
              "            + ' to learn more about interactive tables.';\n",
              "          element.innerHTML = '';\n",
              "          dataTable['output_type'] = 'display_data';\n",
              "          await google.colab.output.renderOutput(dataTable, element);\n",
              "          const docLink = document.createElement('div');\n",
              "          docLink.innerHTML = docLinkHtml;\n",
              "          element.appendChild(docLink);\n",
              "        }\n",
              "      </script>\n",
              "    </div>\n",
              "  </div>\n",
              "  "
            ]
          },
          "metadata": {},
          "execution_count": 5
        }
      ]
    },
    {
      "cell_type": "code",
      "source": [
        "X1 = df1['Sentence']\n",
        "y1 = df1['Label']\n",
        "\n",
        "vectorizer = CountVectorizer(min_df = 2, max_df = 0.8, stop_words = stopwords.words('english'))\n",
        "X1 = vectorizer.fit_transform(X1.values.astype('U')).toarray()\n",
        "\n",
        "X1_train, X1_test, y1_train, y1_test = train_test_split(X1, y1, test_size = 0.2)"
      ],
      "metadata": {
        "id": "KKY4o5NGOqjO"
      },
      "execution_count": null,
      "outputs": []
    },
    {
      "cell_type": "markdown",
      "source": [
        "# Model exploration and Experimentation"
      ],
      "metadata": {
        "id": "A_bpSl1Yj7K7"
      }
    },
    {
      "cell_type": "code",
      "source": [
        "model_ = [\"logistic regression\",\"random forest\",\"SVM\",\"Naive Bayes\",\"CNN\"]\n",
        "df1_acc = []"
      ],
      "metadata": {
        "id": "nDQYPfAIlLpX"
      },
      "execution_count": null,
      "outputs": []
    },
    {
      "cell_type": "markdown",
      "source": [
        "**LOGISTIC REGRESSION**"
      ],
      "metadata": {
        "id": "6w-YJSyuSOwJ"
      }
    },
    {
      "cell_type": "code",
      "source": [
        "lr_clf = LogisticRegression()\n",
        "lr_clf.fit(X1_train, y1_train)\n",
        "y_pred = lr_clf.predict(X1_test)\n",
        "print(f\"Accuracy of Logistic Regression on test set : {accuracy_score(y_pred, y1_test)}\")\n",
        "print(f\"F1 Score of Logistic Regression on test set : {f1_score(y_pred, y1_test)}\")\n",
        "df1_acc.append(recall_score(y1_test, y_pred))"
      ],
      "metadata": {
        "execution": {
          "iopub.status.busy": "2021-11-26T08:43:09.184820Z",
          "iopub.execute_input": "2021-11-26T08:43:09.185050Z",
          "iopub.status.idle": "2021-11-26T08:43:10.123194Z",
          "shell.execute_reply.started": "2021-11-26T08:43:09.185023Z",
          "shell.execute_reply": "2021-11-26T08:43:10.122260Z"
        },
        "trusted": true,
        "colab": {
          "base_uri": "https://localhost:8080/"
        },
        "id": "_nRZIOouSOwK",
        "outputId": "27799b5d-7e6b-48d4-8fe4-a4fed935367a"
      },
      "execution_count": null,
      "outputs": [
        {
          "output_type": "stream",
          "name": "stdout",
          "text": [
            "Accuracy of Logistic Regression on test set : 0.9202380952380952\n",
            "F1 Score of Logistic Regression on test set : 0.8361858190709047\n"
          ]
        }
      ]
    },
    {
      "cell_type": "markdown",
      "source": [
        "**RANDOM FOREST**"
      ],
      "metadata": {
        "id": "tXeGh1EUSOwK"
      }
    },
    {
      "cell_type": "code",
      "source": [
        "rf_clf = RandomForestClassifier()\n",
        "rf_clf.fit(X1_train, y1_train)\n",
        "y_pred = rf_clf.predict(X1_test)\n",
        "print(f\"Accuracy of Random Forest on test set : {accuracy_score(y_pred, y1_test)}\")\n",
        "print(f\"F1 Score of Random Forest on test set : {f1_score(y_pred, y1_test)}\")\n",
        "df1_acc.append(recall_score(y1_test, y_pred))"
      ],
      "metadata": {
        "execution": {
          "iopub.status.busy": "2021-11-26T08:43:10.125482Z",
          "iopub.execute_input": "2021-11-26T08:43:10.126548Z",
          "iopub.status.idle": "2021-11-26T08:43:21.008354Z",
          "shell.execute_reply.started": "2021-11-26T08:43:10.126495Z",
          "shell.execute_reply": "2021-11-26T08:43:21.007484Z"
        },
        "trusted": true,
        "colab": {
          "base_uri": "https://localhost:8080/"
        },
        "id": "JIYa1y9YSOwL",
        "outputId": "96bef0ba-a1fd-40a0-e6e2-ebd87e67bc25"
      },
      "execution_count": null,
      "outputs": [
        {
          "output_type": "stream",
          "name": "stdout",
          "text": [
            "Accuracy of Random Forest on test set : 0.9011904761904762\n",
            "F1 Score of Random Forest on test set : 0.8504504504504504\n"
          ]
        }
      ]
    },
    {
      "cell_type": "markdown",
      "source": [
        "**SUPPORT VECTOR MACHINES**"
      ],
      "metadata": {
        "id": "BOXvRVogSOwL"
      }
    },
    {
      "cell_type": "code",
      "source": [
        "svm_clf = SVC(gamma = 'auto')\n",
        "svm_clf.fit(X1_train, y1_train)\n",
        "y_pred = svm_clf.predict(X1_test)\n",
        "print(f\"Accuracy of SVM on test set : {accuracy_score(y_pred, y1_test)}\")\n",
        "print(f\"F1 Score of SVM on test set : {f1_score(y_pred, y1_test)}\")\n",
        "df1_acc.append(recall_score(y1_test, y_pred))"
      ],
      "metadata": {
        "execution": {
          "iopub.status.busy": "2021-11-26T08:43:21.009971Z",
          "iopub.execute_input": "2021-11-26T08:43:21.010288Z",
          "iopub.status.idle": "2021-11-26T08:44:26.456729Z",
          "shell.execute_reply.started": "2021-11-26T08:43:21.010246Z",
          "shell.execute_reply": "2021-11-26T08:44:26.455689Z"
        },
        "trusted": true,
        "id": "bu_WLPlfSOwM",
        "outputId": "963a2d48-0f94-478e-a79f-ffe662435a43",
        "colab": {
          "base_uri": "https://localhost:8080/"
        }
      },
      "execution_count": null,
      "outputs": [
        {
          "output_type": "stream",
          "name": "stdout",
          "text": [
            "Accuracy of SVM on test set : 0.7702380952380953\n",
            "F1 Score of SVM on test set : 0.3131672597864769\n"
          ]
        }
      ]
    },
    {
      "cell_type": "markdown",
      "source": [
        "**NAIVE BAYES**"
      ],
      "metadata": {
        "id": "R45NR0reSOwM"
      }
    },
    {
      "cell_type": "code",
      "source": [
        "nb_clf = GaussianNB()\n",
        "nb_clf.fit(X1_train, y1_train)\n",
        "y_pred = nb_clf.predict(X1_test)\n",
        "print(f\"Accuracy of Naive Bayes on test set : {accuracy_score(y_pred, y1_test)}\")\n",
        "print(f\"F1 Score of Naive Bayes on test set : {f1_score(y_pred, y1_test)}\")\n",
        "df1_acc.append(recall_score(y1_test, y_pred))"
      ],
      "metadata": {
        "execution": {
          "iopub.status.busy": "2021-11-26T08:44:26.458310Z",
          "iopub.execute_input": "2021-11-26T08:44:26.458599Z",
          "iopub.status.idle": "2021-11-26T08:44:26.846136Z",
          "shell.execute_reply.started": "2021-11-26T08:44:26.458566Z",
          "shell.execute_reply": "2021-11-26T08:44:26.845150Z"
        },
        "trusted": true,
        "colab": {
          "base_uri": "https://localhost:8080/"
        },
        "id": "55onQpkPSOwN",
        "outputId": "59389286-f3e1-428a-de72-1f2bd81696b3"
      },
      "execution_count": null,
      "outputs": [
        {
          "output_type": "stream",
          "name": "stdout",
          "text": [
            "Accuracy of Naive Bayes on test set : 0.9738095238095238\n",
            "F1 Score of Naive Bayes on test set : 0.9551020408163267\n"
          ]
        }
      ]
    },
    {
      "cell_type": "markdown",
      "source": [
        "**CONVOLUTIONAL NEURAL NETWORK**"
      ],
      "metadata": {
        "id": "CXJw4VuHSOwN"
      }
    },
    {
      "cell_type": "code",
      "source": [
        "model = models.Sequential()\n",
        "model.add(layers.Conv1D(32, 1, activation = 'relu', input_shape = (1,4717)))\n",
        "model.add(layers.Conv1D(32, 1, activation = 'relu'))\n",
        "model.add(layers.Flatten())\n",
        "model.add(layers.Dense(1, activation = 'sigmoid'))\n",
        "\n",
        "model.summary()\n",
        "\n",
        "model.compile(optimizer = 'adam', loss = tf.keras.losses.BinaryCrossentropy(), metrics = ['accuracy'])\n",
        "\n",
        "X_train = X1_train.reshape(-1, 1, 4717)\n",
        "X_test = X1_test.reshape(-1, 1, 4717)\n",
        "\n",
        "model.fit(X_train, y1_train, epochs = 10, validation_data = (X_test, y1_test))\n",
        "\n"
      ],
      "metadata": {
        "execution": {
          "iopub.status.busy": "2021-11-26T08:44:26.847421Z",
          "iopub.execute_input": "2021-11-26T08:44:26.847713Z",
          "iopub.status.idle": "2021-11-26T08:44:34.812655Z",
          "shell.execute_reply.started": "2021-11-26T08:44:26.847682Z",
          "shell.execute_reply": "2021-11-26T08:44:34.811512Z"
        },
        "trusted": true,
        "colab": {
          "base_uri": "https://localhost:8080/"
        },
        "id": "2jJXWtunSOwN",
        "outputId": "1b0dc5d2-19d9-40a8-a2de-0efc14896a1b"
      },
      "execution_count": null,
      "outputs": [
        {
          "output_type": "stream",
          "name": "stdout",
          "text": [
            "Model: \"sequential\"\n",
            "_________________________________________________________________\n",
            " Layer (type)                Output Shape              Param #   \n",
            "=================================================================\n",
            " conv1d (Conv1D)             (None, 1, 32)             150976    \n",
            "                                                                 \n",
            " conv1d_1 (Conv1D)           (None, 1, 32)             1056      \n",
            "                                                                 \n",
            " flatten (Flatten)           (None, 32)                0         \n",
            "                                                                 \n",
            " dense (Dense)               (None, 1)                 33        \n",
            "                                                                 \n",
            "=================================================================\n",
            "Total params: 152,065\n",
            "Trainable params: 152,065\n",
            "Non-trainable params: 0\n",
            "_________________________________________________________________\n",
            "Epoch 1/10\n",
            "105/105 [==============================] - 2s 9ms/step - loss: 0.4172 - accuracy: 0.8036 - val_loss: 0.2296 - val_accuracy: 0.8845\n",
            "Epoch 2/10\n",
            "105/105 [==============================] - 1s 7ms/step - loss: 0.1259 - accuracy: 0.9577 - val_loss: 0.1040 - val_accuracy: 0.9738\n",
            "Epoch 3/10\n",
            "105/105 [==============================] - 1s 7ms/step - loss: 0.0653 - accuracy: 0.9810 - val_loss: 0.0825 - val_accuracy: 0.9690\n",
            "Epoch 4/10\n",
            "105/105 [==============================] - 1s 7ms/step - loss: 0.0514 - accuracy: 0.9824 - val_loss: 0.0779 - val_accuracy: 0.9679\n",
            "Epoch 5/10\n",
            "105/105 [==============================] - 1s 6ms/step - loss: 0.0470 - accuracy: 0.9824 - val_loss: 0.0770 - val_accuracy: 0.9690\n",
            "Epoch 6/10\n",
            "105/105 [==============================] - 1s 7ms/step - loss: 0.0452 - accuracy: 0.9824 - val_loss: 0.0730 - val_accuracy: 0.9690\n",
            "Epoch 7/10\n",
            "105/105 [==============================] - 1s 5ms/step - loss: 0.0438 - accuracy: 0.9824 - val_loss: 0.0718 - val_accuracy: 0.9714\n",
            "Epoch 8/10\n",
            "105/105 [==============================] - 0s 4ms/step - loss: 0.0427 - accuracy: 0.9824 - val_loss: 0.0772 - val_accuracy: 0.9714\n",
            "Epoch 9/10\n",
            "105/105 [==============================] - 0s 4ms/step - loss: 0.0428 - accuracy: 0.9827 - val_loss: 0.0722 - val_accuracy: 0.9702\n",
            "Epoch 10/10\n",
            "105/105 [==============================] - 0s 4ms/step - loss: 0.0431 - accuracy: 0.9827 - val_loss: 0.0718 - val_accuracy: 0.9702\n"
          ]
        },
        {
          "output_type": "execute_result",
          "data": {
            "text/plain": [
              "<keras.callbacks.History at 0x7f34a322fcd0>"
            ]
          },
          "metadata": {},
          "execution_count": 10
        }
      ]
    },
    {
      "cell_type": "code",
      "source": [
        "y_pred = model.predict(X_test)\n",
        "y_pred = np.round(y_pred)\n",
        "print(f\"Accuracy of CNN on test set : {accuracy_score(y_pred, y1_test)}\")\n",
        "print(f\"F1 Score of CNN on test set : {f1_score(y_pred, y1_test)}\")\n",
        "df1_acc.append(recall_score(y1_test, y_pred))"
      ],
      "metadata": {
        "execution": {
          "iopub.status.busy": "2021-11-26T08:44:34.814705Z",
          "iopub.execute_input": "2021-11-26T08:44:34.815043Z",
          "iopub.status.idle": "2021-11-26T08:44:35.013679Z",
          "shell.execute_reply.started": "2021-11-26T08:44:34.814999Z",
          "shell.execute_reply": "2021-11-26T08:44:35.012769Z"
        },
        "trusted": true,
        "colab": {
          "base_uri": "https://localhost:8080/"
        },
        "id": "GVaMK7RTSOwO",
        "outputId": "7ebdd010-af3a-45f3-fd2f-2b2942a3024d"
      },
      "execution_count": null,
      "outputs": [
        {
          "output_type": "stream",
          "name": "stdout",
          "text": [
            "Accuracy of CNN on test set : 0.9702380952380952\n",
            "F1 Score of CNN on test set : 0.9492900608519271\n"
          ]
        }
      ]
    },
    {
      "cell_type": "code",
      "source": [
        "print(\"The best model for the first dataset is\",model_[-1::-1][np.argmax(df1_acc[-1::-1])])\n",
        "print(df1_acc)"
      ],
      "metadata": {
        "colab": {
          "base_uri": "https://localhost:8080/"
        },
        "id": "c6L5Gv3Fk_Ag",
        "outputId": "6643ae1c-ed91-4a16-ff6a-fbae12484ab7"
      },
      "execution_count": null,
      "outputs": [
        {
          "output_type": "stream",
          "name": "stdout",
          "text": [
            "The best model for the first dataset is random forest\n",
            "[0.7215189873417721, 0.9957805907172996, 0.18565400843881857, 0.9873417721518988, 0.9873417721518988]\n"
          ]
        }
      ]
    },
    {
      "cell_type": "code",
      "source": [
        "import matplotlib.pyplot as plt\n",
        "plt.figure(figsize=[10,7])\n",
        "plt.bar(model_,np.array(df1_acc)*100)\n",
        "plt.xlabel(\"Models Considered\")\n",
        "plt.ylabel(\"Recall Score of the Models\")"
      ],
      "metadata": {
        "colab": {
          "base_uri": "https://localhost:8080/",
          "height": 460
        },
        "id": "59LRwAN_AAa6",
        "outputId": "485d51d0-ba6f-446c-cf2b-1ba31a6cbe6b"
      },
      "execution_count": null,
      "outputs": [
        {
          "output_type": "execute_result",
          "data": {
            "text/plain": [
              "Text(0, 0.5, 'Recall Score of the Models')"
            ]
          },
          "metadata": {},
          "execution_count": 18
        },
        {
          "output_type": "display_data",
          "data": {
            "text/plain": [
              "<Figure size 720x504 with 1 Axes>"
            ],
            "image/png": "[encoded data removed]"
          },
          "metadata": {
            "needs_background": "light"
          }
        }
      ]
    }
  ]
}